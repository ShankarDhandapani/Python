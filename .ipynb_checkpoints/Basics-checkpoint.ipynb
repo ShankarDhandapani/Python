{
 "cells": [
  {
   "cell_type": "markdown",
   "metadata": {},
   "source": [
    "<img src=\"data:image/jpeg;base64,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\" />"
   ]
  },
  {
   "cell_type": "markdown",
   "metadata": {},
   "source": [
    "<center><h1>Python!</h1></center>"
   ]
  },
  {
   "cell_type": "markdown",
   "metadata": {},
   "source": [
    "# Variables:\n",
    "\n",
    "## Syntax:\n",
    "- var = initialisation\n",
    "    "
   ]
  },
  {
   "cell_type": "code",
   "execution_count": 2,
   "metadata": {},
   "outputs": [],
   "source": [
    "i_am_variable = 1"
   ]
  },
  {
   "cell_type": "code",
   "execution_count": 3,
   "metadata": {},
   "outputs": [
    {
     "data": {
      "text/plain": [
       "1"
      ]
     },
     "execution_count": 3,
     "metadata": {},
     "output_type": "execute_result"
    }
   ],
   "source": [
    "i_am_variable"
   ]
  },
  {
   "cell_type": "code",
   "execution_count": 4,
   "metadata": {},
   "outputs": [
    {
     "data": {
      "text/plain": [
       "int"
      ]
     },
     "execution_count": 4,
     "metadata": {},
     "output_type": "execute_result"
    }
   ],
   "source": [
    "type(i_am_variable)"
   ]
  },
  {
   "cell_type": "code",
   "execution_count": 5,
   "metadata": {},
   "outputs": [],
   "source": [
    "i_am_variable = \"I can change my self into many Datatypes!!!\""
   ]
  },
  {
   "cell_type": "code",
   "execution_count": 6,
   "metadata": {},
   "outputs": [
    {
     "data": {
      "text/plain": [
       "str"
      ]
     },
     "execution_count": 6,
     "metadata": {},
     "output_type": "execute_result"
    }
   ],
   "source": [
    "type(i_am_variable)"
   ]
  },
  {
   "cell_type": "markdown",
   "metadata": {},
   "source": [
    "# DataTypes\n",
    "   1. Numbers:\n",
    "    - int, float, complex\n",
    "   2. String:\n",
    "    - str\n",
    "   3. Collections:\n",
    "    - list, tuple, set, dict"
   ]
  },
  {
   "cell_type": "code",
   "execution_count": 7,
   "metadata": {},
   "outputs": [
    {
     "name": "stdout",
     "output_type": "stream",
     "text": [
      "1 is a <class 'int'>\n",
      "1.2 is a <class 'float'>\n",
      "(1+3j) is a <class 'complex'>\n"
     ]
    }
   ],
   "source": [
    "# NUMBER DATATYPE....\n",
    "\n",
    "# int....\n",
    "a = 1\n",
    "print(a, \"is a\", type(a))\n",
    "\n",
    "# float....\n",
    "b = 1.2\n",
    "print(b, \"is a\", type(b))\n",
    "\n",
    "# complex....\n",
    "c = 1+3j\n",
    "print(c, \"is a\", type(c))"
   ]
  },
  {
   "cell_type": "code",
   "execution_count": 8,
   "metadata": {},
   "outputs": [
    {
     "name": "stdout",
     "output_type": "stream",
     "text": [
      "Enter Something:1\n",
      "1 is a <class 'str'>\n"
     ]
    }
   ],
   "source": [
    "# STRING DATATYPE....\n",
    "\n",
    "# Let us get some input from the user....\n",
    "in_put = input(\"Enter Something:\")\n",
    "print(in_put , \"is a\", type(in_put))"
   ]
  },
  {
   "cell_type": "markdown",
   "metadata": {},
   "source": [
    "#### Oh No!!.... \n",
    "##### Every value get from the user via input() is String by default.\n",
    "##### return type of input() is String...."
   ]
  },
  {
   "cell_type": "code",
   "execution_count": 9,
   "metadata": {},
   "outputs": [
    {
     "name": "stdout",
     "output_type": "stream",
     "text": [
      "Enter the Number:1\n",
      "1 is a <class 'int'>\n"
     ]
    }
   ],
   "source": [
    "changed_input = int(input(\"Enter the Number:\"))\n",
    "print(changed_input, \"is a\", type(changed_input))"
   ]
  },
  {
   "cell_type": "markdown",
   "metadata": {},
   "source": [
    "# Collections"
   ]
  },
  {
   "cell_type": "markdown",
   "metadata": {},
   "source": [
    "## Lists:\n",
    "> Python knows a number of compound data types, used to group together\n",
    "other values. The most versatile is the list, which can be written as a\n",
    "list of comma-separated values (items) between square brackets. Lists\n",
    "might contain items of different types, but usually the items all have\n",
    "the same type.\n",
    "\n",
    "> Syntax: name = [item1,.,.,itemn]"
   ]
  },
  {
   "cell_type": "code",
   "execution_count": 10,
   "metadata": {},
   "outputs": [],
   "source": [
    "squares = [1, 4, 9, 16, 25]\n",
    "new_list = [\"hi\", 1, 10.2, 1+2j]"
   ]
  },
  {
   "cell_type": "code",
   "execution_count": 11,
   "metadata": {},
   "outputs": [
    {
     "data": {
      "text/plain": [
       "['hi', 1, 10.2, (1+2j)]"
      ]
     },
     "execution_count": 11,
     "metadata": {},
     "output_type": "execute_result"
    }
   ],
   "source": [
    "new_list"
   ]
  },
  {
   "cell_type": "code",
   "execution_count": 12,
   "metadata": {},
   "outputs": [
    {
     "data": {
      "text/plain": [
       "[1, 4, 9, 16, 25]"
      ]
     },
     "execution_count": 12,
     "metadata": {},
     "output_type": "execute_result"
    }
   ],
   "source": [
    "squares"
   ]
  },
  {
   "cell_type": "code",
   "execution_count": 13,
   "metadata": {},
   "outputs": [
    {
     "data": {
      "text/plain": [
       "16"
      ]
     },
     "execution_count": 13,
     "metadata": {},
     "output_type": "execute_result"
    }
   ],
   "source": [
    "squares[3] # get values by index...."
   ]
  },
  {
   "cell_type": "code",
   "execution_count": 14,
   "metadata": {},
   "outputs": [
    {
     "data": {
      "text/plain": [
       "[4, 9]"
      ]
     },
     "execution_count": 14,
     "metadata": {},
     "output_type": "execute_result"
    }
   ],
   "source": [
    "squares[1:3] # get values by slicing...."
   ]
  },
  {
   "cell_type": "code",
   "execution_count": 18,
   "metadata": {},
   "outputs": [
    {
     "data": {
      "text/plain": [
       "[1, 4, 9, 16, 25]"
      ]
     },
     "execution_count": 18,
     "metadata": {},
     "output_type": "execute_result"
    }
   ],
   "source": [
    "squares[:]"
   ]
  },
  {
   "cell_type": "code",
   "execution_count": 20,
   "metadata": {},
   "outputs": [
    {
     "data": {
      "text/plain": [
       "[25, 16, 9, 4, 1]"
      ]
     },
     "execution_count": 20,
     "metadata": {},
     "output_type": "execute_result"
    }
   ],
   "source": [
    "squares[::-1] # get values with steps...."
   ]
  },
  {
   "cell_type": "code",
   "execution_count": 22,
   "metadata": {},
   "outputs": [
    {
     "data": {
      "text/plain": [
       "'I can change my self into many Datatypes!!!'"
      ]
     },
     "execution_count": 22,
     "metadata": {},
     "output_type": "execute_result"
    }
   ],
   "source": [
    "i_am_variable"
   ]
  },
  {
   "cell_type": "code",
   "execution_count": 21,
   "metadata": {},
   "outputs": [
    {
     "data": {
      "text/plain": [
       "'!!!sepytataD ynam otni fles ym egnahc nac I'"
      ]
     },
     "execution_count": 21,
     "metadata": {},
     "output_type": "execute_result"
    }
   ],
   "source": [
    "i_am_variable[::-1]"
   ]
  },
  {
   "cell_type": "code",
   "execution_count": 19,
   "metadata": {},
   "outputs": [
    {
     "data": {
      "text/plain": [
       "[1, 9]"
      ]
     },
     "execution_count": 19,
     "metadata": {},
     "output_type": "execute_result"
    }
   ],
   "source": [
    "squares[0:3:2] # start from 0 upto 3 with step 2...."
   ]
  },
  {
   "cell_type": "code",
   "execution_count": 23,
   "metadata": {},
   "outputs": [],
   "source": [
    "squares.append(36)"
   ]
  },
  {
   "cell_type": "code",
   "execution_count": 24,
   "metadata": {},
   "outputs": [
    {
     "data": {
      "text/plain": [
       "[1, 4, 9, 16, 25, 36]"
      ]
     },
     "execution_count": 24,
     "metadata": {},
     "output_type": "execute_result"
    }
   ],
   "source": [
    "squares"
   ]
  },
  {
   "cell_type": "markdown",
   "metadata": {},
   "source": [
    "Check this Document for [List.](https://docs.python.org/3/tutorial/datastructures.html#more-on-lists) (OR)"
   ]
  },
  {
   "cell_type": "code",
   "execution_count": 25,
   "metadata": {},
   "outputs": [
    {
     "name": "stdout",
     "output_type": "stream",
     "text": [
      "Help on class list in module builtins:\n",
      "\n",
      "class list(object)\n",
      " |  list() -> new empty list\n",
      " |  list(iterable) -> new list initialized from iterable's items\n",
      " |  \n",
      " |  Methods defined here:\n",
      " |  \n",
      " |  __add__(self, value, /)\n",
      " |      Return self+value.\n",
      " |  \n",
      " |  __contains__(self, key, /)\n",
      " |      Return key in self.\n",
      " |  \n",
      " |  __delitem__(self, key, /)\n",
      " |      Delete self[key].\n",
      " |  \n",
      " |  __eq__(self, value, /)\n",
      " |      Return self==value.\n",
      " |  \n",
      " |  __ge__(self, value, /)\n",
      " |      Return self>=value.\n",
      " |  \n",
      " |  __getattribute__(self, name, /)\n",
      " |      Return getattr(self, name).\n",
      " |  \n",
      " |  __getitem__(...)\n",
      " |      x.__getitem__(y) <==> x[y]\n",
      " |  \n",
      " |  __gt__(self, value, /)\n",
      " |      Return self>value.\n",
      " |  \n",
      " |  __iadd__(self, value, /)\n",
      " |      Implement self+=value.\n",
      " |  \n",
      " |  __imul__(self, value, /)\n",
      " |      Implement self*=value.\n",
      " |  \n",
      " |  __init__(self, /, *args, **kwargs)\n",
      " |      Initialize self.  See help(type(self)) for accurate signature.\n",
      " |  \n",
      " |  __iter__(self, /)\n",
      " |      Implement iter(self).\n",
      " |  \n",
      " |  __le__(self, value, /)\n",
      " |      Return self<=value.\n",
      " |  \n",
      " |  __len__(self, /)\n",
      " |      Return len(self).\n",
      " |  \n",
      " |  __lt__(self, value, /)\n",
      " |      Return self<value.\n",
      " |  \n",
      " |  __mul__(self, value, /)\n",
      " |      Return self*value.\n",
      " |  \n",
      " |  __ne__(self, value, /)\n",
      " |      Return self!=value.\n",
      " |  \n",
      " |  __new__(*args, **kwargs) from builtins.type\n",
      " |      Create and return a new object.  See help(type) for accurate signature.\n",
      " |  \n",
      " |  __repr__(self, /)\n",
      " |      Return repr(self).\n",
      " |  \n",
      " |  __reversed__(...)\n",
      " |      L.__reversed__() -- return a reverse iterator over the list\n",
      " |  \n",
      " |  __rmul__(self, value, /)\n",
      " |      Return value*self.\n",
      " |  \n",
      " |  __setitem__(self, key, value, /)\n",
      " |      Set self[key] to value.\n",
      " |  \n",
      " |  __sizeof__(...)\n",
      " |      L.__sizeof__() -- size of L in memory, in bytes\n",
      " |  \n",
      " |  append(...)\n",
      " |      L.append(object) -> None -- append object to end\n",
      " |  \n",
      " |  clear(...)\n",
      " |      L.clear() -> None -- remove all items from L\n",
      " |  \n",
      " |  copy(...)\n",
      " |      L.copy() -> list -- a shallow copy of L\n",
      " |  \n",
      " |  count(...)\n",
      " |      L.count(value) -> integer -- return number of occurrences of value\n",
      " |  \n",
      " |  extend(...)\n",
      " |      L.extend(iterable) -> None -- extend list by appending elements from the iterable\n",
      " |  \n",
      " |  index(...)\n",
      " |      L.index(value, [start, [stop]]) -> integer -- return first index of value.\n",
      " |      Raises ValueError if the value is not present.\n",
      " |  \n",
      " |  insert(...)\n",
      " |      L.insert(index, object) -- insert object before index\n",
      " |  \n",
      " |  pop(...)\n",
      " |      L.pop([index]) -> item -- remove and return item at index (default last).\n",
      " |      Raises IndexError if list is empty or index is out of range.\n",
      " |  \n",
      " |  remove(...)\n",
      " |      L.remove(value) -> None -- remove first occurrence of value.\n",
      " |      Raises ValueError if the value is not present.\n",
      " |  \n",
      " |  reverse(...)\n",
      " |      L.reverse() -- reverse *IN PLACE*\n",
      " |  \n",
      " |  sort(...)\n",
      " |      L.sort(key=None, reverse=False) -> None -- stable sort *IN PLACE*\n",
      " |  \n",
      " |  ----------------------------------------------------------------------\n",
      " |  Data and other attributes defined here:\n",
      " |  \n",
      " |  __hash__ = None\n",
      "\n"
     ]
    }
   ],
   "source": [
    "help(list)"
   ]
  },
  {
   "cell_type": "markdown",
   "metadata": {},
   "source": [
    "## Tuple:\n",
    "> Tuples may seem similar to lists, they are often used in different situations and for different purposes. Tuples are immutable\n",
    "\n",
    "> Syntax:\n",
    "    name = (....)"
   ]
  },
  {
   "cell_type": "code",
   "execution_count": 26,
   "metadata": {},
   "outputs": [],
   "source": [
    "numbers = (1, 2, 3, 4, 5)"
   ]
  },
  {
   "cell_type": "code",
   "execution_count": 27,
   "metadata": {},
   "outputs": [
    {
     "ename": "AttributeError",
     "evalue": "'tuple' object has no attribute 'append'",
     "output_type": "error",
     "traceback": [
      "\u001b[1;31m---------------------------------------------------------------------------\u001b[0m",
      "\u001b[1;31mAttributeError\u001b[0m                            Traceback (most recent call last)",
      "\u001b[1;32m<ipython-input-27-bd583daa4509>\u001b[0m in \u001b[0;36m<module>\u001b[1;34m\u001b[0m\n\u001b[1;32m----> 1\u001b[1;33m \u001b[0mnumbers\u001b[0m\u001b[1;33m.\u001b[0m\u001b[0mappend\u001b[0m\u001b[1;33m(\u001b[0m\u001b[1;36m6\u001b[0m\u001b[1;33m)\u001b[0m\u001b[1;33m\u001b[0m\u001b[1;33m\u001b[0m\u001b[0m\n\u001b[0m",
      "\u001b[1;31mAttributeError\u001b[0m: 'tuple' object has no attribute 'append'"
     ]
    }
   ],
   "source": [
    "numbers.append(6)"
   ]
  },
  {
   "cell_type": "code",
   "execution_count": 28,
   "metadata": {},
   "outputs": [
    {
     "ename": "TypeError",
     "evalue": "'tuple' object does not support item assignment",
     "output_type": "error",
     "traceback": [
      "\u001b[1;31m---------------------------------------------------------------------------\u001b[0m",
      "\u001b[1;31mTypeError\u001b[0m                                 Traceback (most recent call last)",
      "\u001b[1;32m<ipython-input-28-a19d0fa9c717>\u001b[0m in \u001b[0;36m<module>\u001b[1;34m\u001b[0m\n\u001b[1;32m----> 1\u001b[1;33m \u001b[0mnumbers\u001b[0m\u001b[1;33m[\u001b[0m\u001b[1;36m3\u001b[0m\u001b[1;33m]\u001b[0m \u001b[1;33m=\u001b[0m \u001b[1;36m6\u001b[0m\u001b[1;33m\u001b[0m\u001b[1;33m\u001b[0m\u001b[0m\n\u001b[0m",
      "\u001b[1;31mTypeError\u001b[0m: 'tuple' object does not support item assignment"
     ]
    }
   ],
   "source": [
    "numbers[3] = 6"
   ]
  },
  {
   "cell_type": "markdown",
   "metadata": {},
   "source": [
    "Check this Document for [Tuple.](https://docs.python.org/3/tutorial/datastructures.html#tuples-and-sequences) (OR)"
   ]
  },
  {
   "cell_type": "code",
   "execution_count": 29,
   "metadata": {},
   "outputs": [
    {
     "name": "stdout",
     "output_type": "stream",
     "text": [
      "Help on class tuple in module builtins:\n",
      "\n",
      "class tuple(object)\n",
      " |  tuple() -> empty tuple\n",
      " |  tuple(iterable) -> tuple initialized from iterable's items\n",
      " |  \n",
      " |  If the argument is a tuple, the return value is the same object.\n",
      " |  \n",
      " |  Methods defined here:\n",
      " |  \n",
      " |  __add__(self, value, /)\n",
      " |      Return self+value.\n",
      " |  \n",
      " |  __contains__(self, key, /)\n",
      " |      Return key in self.\n",
      " |  \n",
      " |  __eq__(self, value, /)\n",
      " |      Return self==value.\n",
      " |  \n",
      " |  __ge__(self, value, /)\n",
      " |      Return self>=value.\n",
      " |  \n",
      " |  __getattribute__(self, name, /)\n",
      " |      Return getattr(self, name).\n",
      " |  \n",
      " |  __getitem__(self, key, /)\n",
      " |      Return self[key].\n",
      " |  \n",
      " |  __getnewargs__(...)\n",
      " |  \n",
      " |  __gt__(self, value, /)\n",
      " |      Return self>value.\n",
      " |  \n",
      " |  __hash__(self, /)\n",
      " |      Return hash(self).\n",
      " |  \n",
      " |  __iter__(self, /)\n",
      " |      Implement iter(self).\n",
      " |  \n",
      " |  __le__(self, value, /)\n",
      " |      Return self<=value.\n",
      " |  \n",
      " |  __len__(self, /)\n",
      " |      Return len(self).\n",
      " |  \n",
      " |  __lt__(self, value, /)\n",
      " |      Return self<value.\n",
      " |  \n",
      " |  __mul__(self, value, /)\n",
      " |      Return self*value.\n",
      " |  \n",
      " |  __ne__(self, value, /)\n",
      " |      Return self!=value.\n",
      " |  \n",
      " |  __new__(*args, **kwargs) from builtins.type\n",
      " |      Create and return a new object.  See help(type) for accurate signature.\n",
      " |  \n",
      " |  __repr__(self, /)\n",
      " |      Return repr(self).\n",
      " |  \n",
      " |  __rmul__(self, value, /)\n",
      " |      Return value*self.\n",
      " |  \n",
      " |  count(...)\n",
      " |      T.count(value) -> integer -- return number of occurrences of value\n",
      " |  \n",
      " |  index(...)\n",
      " |      T.index(value, [start, [stop]]) -> integer -- return first index of value.\n",
      " |      Raises ValueError if the value is not present.\n",
      "\n"
     ]
    }
   ],
   "source": [
    "help(tuple)"
   ]
  },
  {
   "cell_type": "markdown",
   "metadata": {},
   "source": [
    "## Set:\n",
    "> A set is an unordered collection with no duplicate elements. To create a set you have to use set(), not {}.\n",
    "\n",
    "> Syntax : name ={....}"
   ]
  },
  {
   "cell_type": "code",
   "execution_count": 30,
   "metadata": {},
   "outputs": [],
   "source": [
    "first_set = {1, 1, 2, 1, 8, 4, 2, 6}"
   ]
  },
  {
   "cell_type": "code",
   "execution_count": 31,
   "metadata": {},
   "outputs": [
    {
     "data": {
      "text/plain": [
       "{1, 2, 4, 6, 8}"
      ]
     },
     "execution_count": 31,
     "metadata": {},
     "output_type": "execute_result"
    }
   ],
   "source": [
    "first_set"
   ]
  },
  {
   "cell_type": "code",
   "execution_count": 32,
   "metadata": {},
   "outputs": [],
   "source": [
    "second_set = {1, 3, 4, 6, 8}"
   ]
  },
  {
   "cell_type": "code",
   "execution_count": 33,
   "metadata": {},
   "outputs": [
    {
     "data": {
      "text/plain": [
       "{1, 4, 6, 8}"
      ]
     },
     "execution_count": 33,
     "metadata": {},
     "output_type": "execute_result"
    }
   ],
   "source": [
    "first_set.intersection(second_set)"
   ]
  },
  {
   "cell_type": "markdown",
   "metadata": {},
   "source": [
    "Check this Document for [Set.](https://docs.python.org/3/tutorial/datastructures.html#sets) (OR)"
   ]
  },
  {
   "cell_type": "code",
   "execution_count": 34,
   "metadata": {},
   "outputs": [
    {
     "name": "stdout",
     "output_type": "stream",
     "text": [
      "Help on class set in module builtins:\n",
      "\n",
      "class set(object)\n",
      " |  set() -> new empty set object\n",
      " |  set(iterable) -> new set object\n",
      " |  \n",
      " |  Build an unordered collection of unique elements.\n",
      " |  \n",
      " |  Methods defined here:\n",
      " |  \n",
      " |  __and__(self, value, /)\n",
      " |      Return self&value.\n",
      " |  \n",
      " |  __contains__(...)\n",
      " |      x.__contains__(y) <==> y in x.\n",
      " |  \n",
      " |  __eq__(self, value, /)\n",
      " |      Return self==value.\n",
      " |  \n",
      " |  __ge__(self, value, /)\n",
      " |      Return self>=value.\n",
      " |  \n",
      " |  __getattribute__(self, name, /)\n",
      " |      Return getattr(self, name).\n",
      " |  \n",
      " |  __gt__(self, value, /)\n",
      " |      Return self>value.\n",
      " |  \n",
      " |  __iand__(self, value, /)\n",
      " |      Return self&=value.\n",
      " |  \n",
      " |  __init__(self, /, *args, **kwargs)\n",
      " |      Initialize self.  See help(type(self)) for accurate signature.\n",
      " |  \n",
      " |  __ior__(self, value, /)\n",
      " |      Return self|=value.\n",
      " |  \n",
      " |  __isub__(self, value, /)\n",
      " |      Return self-=value.\n",
      " |  \n",
      " |  __iter__(self, /)\n",
      " |      Implement iter(self).\n",
      " |  \n",
      " |  __ixor__(self, value, /)\n",
      " |      Return self^=value.\n",
      " |  \n",
      " |  __le__(self, value, /)\n",
      " |      Return self<=value.\n",
      " |  \n",
      " |  __len__(self, /)\n",
      " |      Return len(self).\n",
      " |  \n",
      " |  __lt__(self, value, /)\n",
      " |      Return self<value.\n",
      " |  \n",
      " |  __ne__(self, value, /)\n",
      " |      Return self!=value.\n",
      " |  \n",
      " |  __new__(*args, **kwargs) from builtins.type\n",
      " |      Create and return a new object.  See help(type) for accurate signature.\n",
      " |  \n",
      " |  __or__(self, value, /)\n",
      " |      Return self|value.\n",
      " |  \n",
      " |  __rand__(self, value, /)\n",
      " |      Return value&self.\n",
      " |  \n",
      " |  __reduce__(...)\n",
      " |      Return state information for pickling.\n",
      " |  \n",
      " |  __repr__(self, /)\n",
      " |      Return repr(self).\n",
      " |  \n",
      " |  __ror__(self, value, /)\n",
      " |      Return value|self.\n",
      " |  \n",
      " |  __rsub__(self, value, /)\n",
      " |      Return value-self.\n",
      " |  \n",
      " |  __rxor__(self, value, /)\n",
      " |      Return value^self.\n",
      " |  \n",
      " |  __sizeof__(...)\n",
      " |      S.__sizeof__() -> size of S in memory, in bytes\n",
      " |  \n",
      " |  __sub__(self, value, /)\n",
      " |      Return self-value.\n",
      " |  \n",
      " |  __xor__(self, value, /)\n",
      " |      Return self^value.\n",
      " |  \n",
      " |  add(...)\n",
      " |      Add an element to a set.\n",
      " |      \n",
      " |      This has no effect if the element is already present.\n",
      " |  \n",
      " |  clear(...)\n",
      " |      Remove all elements from this set.\n",
      " |  \n",
      " |  copy(...)\n",
      " |      Return a shallow copy of a set.\n",
      " |  \n",
      " |  difference(...)\n",
      " |      Return the difference of two or more sets as a new set.\n",
      " |      \n",
      " |      (i.e. all elements that are in this set but not the others.)\n",
      " |  \n",
      " |  difference_update(...)\n",
      " |      Remove all elements of another set from this set.\n",
      " |  \n",
      " |  discard(...)\n",
      " |      Remove an element from a set if it is a member.\n",
      " |      \n",
      " |      If the element is not a member, do nothing.\n",
      " |  \n",
      " |  intersection(...)\n",
      " |      Return the intersection of two sets as a new set.\n",
      " |      \n",
      " |      (i.e. all elements that are in both sets.)\n",
      " |  \n",
      " |  intersection_update(...)\n",
      " |      Update a set with the intersection of itself and another.\n",
      " |  \n",
      " |  isdisjoint(...)\n",
      " |      Return True if two sets have a null intersection.\n",
      " |  \n",
      " |  issubset(...)\n",
      " |      Report whether another set contains this set.\n",
      " |  \n",
      " |  issuperset(...)\n",
      " |      Report whether this set contains another set.\n",
      " |  \n",
      " |  pop(...)\n",
      " |      Remove and return an arbitrary set element.\n",
      " |      Raises KeyError if the set is empty.\n",
      " |  \n",
      " |  remove(...)\n",
      " |      Remove an element from a set; it must be a member.\n",
      " |      \n",
      " |      If the element is not a member, raise a KeyError.\n",
      " |  \n",
      " |  symmetric_difference(...)\n",
      " |      Return the symmetric difference of two sets as a new set.\n",
      " |      \n",
      " |      (i.e. all elements that are in exactly one of the sets.)\n",
      " |  \n",
      " |  symmetric_difference_update(...)\n",
      " |      Update a set with the symmetric difference of itself and another.\n",
      " |  \n",
      " |  union(...)\n",
      " |      Return the union of sets as a new set.\n",
      " |      \n",
      " |      (i.e. all elements that are in either set.)\n",
      " |  \n",
      " |  update(...)\n",
      " |      Update a set with the union of itself and others.\n",
      " |  \n",
      " |  ----------------------------------------------------------------------\n",
      " |  Data and other attributes defined here:\n",
      " |  \n",
      " |  __hash__ = None\n",
      "\n"
     ]
    }
   ],
   "source": [
    "help(set)"
   ]
  },
  {
   "cell_type": "markdown",
   "metadata": {},
   "source": [
    "## Dictionaries:\n",
    "> It is best to think of a dictionary as a set of key: value pairs, with the requirement that the keys are unique (within one dictionary). A pair of braces creates an empty dictionary: {}. Placing a comma-separated list of key:value pairs within the braces adds initial key:value pairs to the dictionary; this is also the way dictionaries are written on output.\n",
    "\n",
    "> Syntax : name {key:value}"
   ]
  },
  {
   "cell_type": "code",
   "execution_count": 14,
   "metadata": {},
   "outputs": [],
   "source": [
    "my_class = {\n",
    "    \"no:1\" : (1, \"Sam\"),\n",
    "    \"no:2:\" : (2, \"Ram\"),\n",
    "    \"no:3\"  : (3, \"Vicky\")\n",
    "}"
   ]
  },
  {
   "cell_type": "code",
   "execution_count": 15,
   "metadata": {},
   "outputs": [
    {
     "data": {
      "text/plain": [
       "(3, 'Vicky')"
      ]
     },
     "execution_count": 15,
     "metadata": {},
     "output_type": "execute_result"
    }
   ],
   "source": [
    "my_class[\"no:3\"]"
   ]
  },
  {
   "cell_type": "code",
   "execution_count": 16,
   "metadata": {},
   "outputs": [],
   "source": [
    "my_class[\"no:1\"] = (4, \"Raju\")"
   ]
  },
  {
   "cell_type": "code",
   "execution_count": 17,
   "metadata": {},
   "outputs": [
    {
     "data": {
      "text/plain": [
       "(4, 'Raju')"
      ]
     },
     "execution_count": 17,
     "metadata": {},
     "output_type": "execute_result"
    }
   ],
   "source": [
    "my_class[\"no:1\"]"
   ]
  },
  {
   "cell_type": "code",
   "execution_count": 18,
   "metadata": {},
   "outputs": [],
   "source": [
    "my_class[\"no:4\"] = (5, \"Pavi\")"
   ]
  },
  {
   "cell_type": "code",
   "execution_count": 19,
   "metadata": {},
   "outputs": [
    {
     "data": {
      "text/plain": [
       "{'no:1': (4, 'Raju'),\n",
       " 'no:2:': (2, 'Ram'),\n",
       " 'no:3': (3, 'Vicky'),\n",
       " 'no:4': (5, 'Pavi')}"
      ]
     },
     "execution_count": 19,
     "metadata": {},
     "output_type": "execute_result"
    }
   ],
   "source": [
    "my_class"
   ]
  },
  {
   "cell_type": "code",
   "execution_count": 37,
   "metadata": {},
   "outputs": [],
   "source": [
    "num = [1, 2, 3, 4, 5]"
   ]
  },
  {
   "cell_type": "code",
   "execution_count": 20,
   "metadata": {},
   "outputs": [],
   "source": [
    "a, b = 1, 2"
   ]
  },
  {
   "cell_type": "code",
   "execution_count": 22,
   "metadata": {},
   "outputs": [
    {
     "name": "stdout",
     "output_type": "stream",
     "text": [
      "a =  1 b =  2\n"
     ]
    }
   ],
   "source": [
    "print(\"a = \", a, \"b = \", b)"
   ]
  },
  {
   "cell_type": "code",
   "execution_count": 23,
   "metadata": {},
   "outputs": [],
   "source": [
    "a, b  = b, a"
   ]
  },
  {
   "cell_type": "code",
   "execution_count": 24,
   "metadata": {},
   "outputs": [
    {
     "name": "stdout",
     "output_type": "stream",
     "text": [
      "a =  2 b =  1\n"
     ]
    }
   ],
   "source": [
    "print(\"a = \", a, \"b = \", b)"
   ]
  },
  {
   "cell_type": "code",
   "execution_count": 39,
   "metadata": {},
   "outputs": [
    {
     "data": {
      "text/plain": [
       "[1, 4, 9, 16, 25, 36]"
      ]
     },
     "execution_count": 39,
     "metadata": {},
     "output_type": "execute_result"
    }
   ],
   "source": [
    "squares"
   ]
  },
  {
   "cell_type": "code",
   "execution_count": 38,
   "metadata": {},
   "outputs": [],
   "source": [
    "num_square_zip = zip(num, squares)"
   ]
  },
  {
   "cell_type": "code",
   "execution_count": 40,
   "metadata": {},
   "outputs": [
    {
     "data": {
      "text/plain": [
       "<zip at 0x23b24af9f48>"
      ]
     },
     "execution_count": 40,
     "metadata": {},
     "output_type": "execute_result"
    }
   ],
   "source": [
    "num_square_zip"
   ]
  },
  {
   "cell_type": "code",
   "execution_count": 41,
   "metadata": {},
   "outputs": [],
   "source": [
    "num_square_dict = dict(num_square_zip)"
   ]
  },
  {
   "cell_type": "code",
   "execution_count": 42,
   "metadata": {},
   "outputs": [
    {
     "data": {
      "text/plain": [
       "{1: 1, 2: 4, 3: 9, 4: 16, 5: 25}"
      ]
     },
     "execution_count": 42,
     "metadata": {},
     "output_type": "execute_result"
    }
   ],
   "source": [
    "num_square_dict"
   ]
  },
  {
   "cell_type": "markdown",
   "metadata": {},
   "source": [
    "Check this Document for [Dict.](https://docs.python.org/3/tutorial/datastructures.html#dictionaries) (OR)"
   ]
  },
  {
   "cell_type": "code",
   "execution_count": 43,
   "metadata": {},
   "outputs": [
    {
     "name": "stdout",
     "output_type": "stream",
     "text": [
      "Help on class dict in module builtins:\n",
      "\n",
      "class dict(object)\n",
      " |  dict() -> new empty dictionary\n",
      " |  dict(mapping) -> new dictionary initialized from a mapping object's\n",
      " |      (key, value) pairs\n",
      " |  dict(iterable) -> new dictionary initialized as if via:\n",
      " |      d = {}\n",
      " |      for k, v in iterable:\n",
      " |          d[k] = v\n",
      " |  dict(**kwargs) -> new dictionary initialized with the name=value pairs\n",
      " |      in the keyword argument list.  For example:  dict(one=1, two=2)\n",
      " |  \n",
      " |  Methods defined here:\n",
      " |  \n",
      " |  __contains__(self, key, /)\n",
      " |      True if D has a key k, else False.\n",
      " |  \n",
      " |  __delitem__(self, key, /)\n",
      " |      Delete self[key].\n",
      " |  \n",
      " |  __eq__(self, value, /)\n",
      " |      Return self==value.\n",
      " |  \n",
      " |  __ge__(self, value, /)\n",
      " |      Return self>=value.\n",
      " |  \n",
      " |  __getattribute__(self, name, /)\n",
      " |      Return getattr(self, name).\n",
      " |  \n",
      " |  __getitem__(...)\n",
      " |      x.__getitem__(y) <==> x[y]\n",
      " |  \n",
      " |  __gt__(self, value, /)\n",
      " |      Return self>value.\n",
      " |  \n",
      " |  __init__(self, /, *args, **kwargs)\n",
      " |      Initialize self.  See help(type(self)) for accurate signature.\n",
      " |  \n",
      " |  __iter__(self, /)\n",
      " |      Implement iter(self).\n",
      " |  \n",
      " |  __le__(self, value, /)\n",
      " |      Return self<=value.\n",
      " |  \n",
      " |  __len__(self, /)\n",
      " |      Return len(self).\n",
      " |  \n",
      " |  __lt__(self, value, /)\n",
      " |      Return self<value.\n",
      " |  \n",
      " |  __ne__(self, value, /)\n",
      " |      Return self!=value.\n",
      " |  \n",
      " |  __new__(*args, **kwargs) from builtins.type\n",
      " |      Create and return a new object.  See help(type) for accurate signature.\n",
      " |  \n",
      " |  __repr__(self, /)\n",
      " |      Return repr(self).\n",
      " |  \n",
      " |  __setitem__(self, key, value, /)\n",
      " |      Set self[key] to value.\n",
      " |  \n",
      " |  __sizeof__(...)\n",
      " |      D.__sizeof__() -> size of D in memory, in bytes\n",
      " |  \n",
      " |  clear(...)\n",
      " |      D.clear() -> None.  Remove all items from D.\n",
      " |  \n",
      " |  copy(...)\n",
      " |      D.copy() -> a shallow copy of D\n",
      " |  \n",
      " |  fromkeys(iterable, value=None, /) from builtins.type\n",
      " |      Returns a new dict with keys from iterable and values equal to value.\n",
      " |  \n",
      " |  get(...)\n",
      " |      D.get(k[,d]) -> D[k] if k in D, else d.  d defaults to None.\n",
      " |  \n",
      " |  items(...)\n",
      " |      D.items() -> a set-like object providing a view on D's items\n",
      " |  \n",
      " |  keys(...)\n",
      " |      D.keys() -> a set-like object providing a view on D's keys\n",
      " |  \n",
      " |  pop(...)\n",
      " |      D.pop(k[,d]) -> v, remove specified key and return the corresponding value.\n",
      " |      If key is not found, d is returned if given, otherwise KeyError is raised\n",
      " |  \n",
      " |  popitem(...)\n",
      " |      D.popitem() -> (k, v), remove and return some (key, value) pair as a\n",
      " |      2-tuple; but raise KeyError if D is empty.\n",
      " |  \n",
      " |  setdefault(...)\n",
      " |      D.setdefault(k[,d]) -> D.get(k,d), also set D[k]=d if k not in D\n",
      " |  \n",
      " |  update(...)\n",
      " |      D.update([E, ]**F) -> None.  Update D from dict/iterable E and F.\n",
      " |      If E is present and has a .keys() method, then does:  for k in E: D[k] = E[k]\n",
      " |      If E is present and lacks a .keys() method, then does:  for k, v in E: D[k] = v\n",
      " |      In either case, this is followed by: for k in F:  D[k] = F[k]\n",
      " |  \n",
      " |  values(...)\n",
      " |      D.values() -> an object providing a view on D's values\n",
      " |  \n",
      " |  ----------------------------------------------------------------------\n",
      " |  Data and other attributes defined here:\n",
      " |  \n",
      " |  __hash__ = None\n",
      "\n"
     ]
    }
   ],
   "source": [
    "help(dict)"
   ]
  },
  {
   "cell_type": "markdown",
   "metadata": {},
   "source": [
    "# Conditionals\n",
    "\n",
    "1. if\n",
    "2. if...else\n",
    "3. if...elif...else"
   ]
  },
  {
   "cell_type": "markdown",
   "metadata": {},
   "source": [
    "## If condition:\n",
    "> Syntax:\n",
    "\n",
    "\n",
    "```\n",
    "if Condition:\n",
    "      true statements....\n",
    "```      "
   ]
  },
  {
   "cell_type": "code",
   "execution_count": 51,
   "metadata": {},
   "outputs": [
    {
     "data": {
      "text/plain": [
       "[1, 2, 3, 4, 5]"
      ]
     },
     "execution_count": 51,
     "metadata": {},
     "output_type": "execute_result"
    }
   ],
   "source": [
    "num"
   ]
  },
  {
   "cell_type": "code",
   "execution_count": 54,
   "metadata": {},
   "outputs": [
    {
     "name": "stdout",
     "output_type": "stream",
     "text": [
      "HI It's Working.....!!!!!\n"
     ]
    }
   ],
   "source": [
    "if 1 == num[0]:\n",
    "    print(\"HI It's Working.....!!!!!\")"
   ]
  },
  {
   "cell_type": "markdown",
   "metadata": {},
   "source": [
    "## if....else Condition:\n",
    "> Syntax:\n",
    "\n",
    "```\n",
    "if Condition:\n",
    "    true statements.....\n",
    "else:\n",
    "    false statements....\n",
    "```"
   ]
  },
  {
   "cell_type": "code",
   "execution_count": 55,
   "metadata": {},
   "outputs": [
    {
     "name": "stdout",
     "output_type": "stream",
     "text": [
      "OOpps Not Working....\n"
     ]
    }
   ],
   "source": [
    "if 2 == num[1]:\n",
    "    print(\"OOpps Not Working....\")\n",
    "else:\n",
    "    print(\"Yes! It's Working....\")"
   ]
  },
  {
   "cell_type": "markdown",
   "metadata": {},
   "source": [
    "## if...elif....else Condition:\n",
    "> Syntax:\n",
    "\n",
    "```\n",
    "if Condition1:\n",
    "    true for Condition1 ....\n",
    "elif Condition2:\n",
    "    true for Condition2.....\n",
    "elif Condition3:\n",
    "    true for Condition3.....\n",
    "else:\n",
    "    false statement....\n",
    "```"
   ]
  },
  {
   "cell_type": "code",
   "execution_count": 58,
   "metadata": {},
   "outputs": [
    {
     "name": "stdout",
     "output_type": "stream",
     "text": [
      "It is false statement....\n"
     ]
    }
   ],
   "source": [
    "if(1 == num[2]):\n",
    "    print(\"It is condition1....\")\n",
    "elif(1 == num[1]):\n",
    "    print(\"It is condition2....\")\n",
    "elif(5 == num[2]):\n",
    "    print(\"It is condition3....\")\n",
    "else:\n",
    "    print(\"It is false statement....\")"
   ]
  },
  {
   "cell_type": "markdown",
   "metadata": {},
   "source": [
    "# Looping.............................."
   ]
  },
  {
   "cell_type": "markdown",
   "metadata": {},
   "source": [
    "## for..\n",
    "## while..."
   ]
  },
  {
   "cell_type": "markdown",
   "metadata": {},
   "source": [
    "### for:\n",
    "> for is for get values from the collections"
   ]
  },
  {
   "cell_type": "code",
   "execution_count": 9,
   "metadata": {},
   "outputs": [
    {
     "name": "stdout",
     "output_type": "stream",
     "text": [
      "0\n",
      "1\n",
      "2\n",
      "3\n",
      "4\n",
      "Over...\n"
     ]
    }
   ],
   "source": [
    "for i in range(5):\n",
    "    print(i)\n",
    "else:\n",
    "    print(\"Over...\")"
   ]
  },
  {
   "cell_type": "code",
   "execution_count": 64,
   "metadata": {},
   "outputs": [
    {
     "name": "stdout",
     "output_type": "stream",
     "text": [
      "2,3,4,8,6,"
     ]
    }
   ],
   "source": [
    "for i in [2, 3, 4, 8, 6]:\n",
    "    print(i, end=\",\")"
   ]
  },
  {
   "cell_type": "code",
   "execution_count": 62,
   "metadata": {},
   "outputs": [
    {
     "data": {
      "text/plain": [
       "False"
      ]
     },
     "execution_count": 62,
     "metadata": {},
     "output_type": "execute_result"
    }
   ],
   "source": [
    "5 in [2, 3, 4, 8, 6]\n"
   ]
  },
  {
   "cell_type": "markdown",
   "metadata": {},
   "source": [
    "### While\n",
    "> while is for condition checking loop"
   ]
  },
  {
   "cell_type": "code",
   "execution_count": 8,
   "metadata": {},
   "outputs": [
    {
     "name": "stdout",
     "output_type": "stream",
     "text": [
      "1\n",
      "2\n",
      "3\n",
      "4\n",
      "5\n"
     ]
    }
   ],
   "source": [
    "i = 1\n",
    "\n",
    "while True:\n",
    "    print(i)\n",
    "    i+=1\n",
    "    if i>5:\n",
    "        break\n",
    "else:\n",
    "    print(\"New one here!!!!...\")\n",
    "    # i++ -> not working...."
   ]
  },
  {
   "cell_type": "markdown",
   "metadata": {},
   "source": [
    "# Task:\n",
    "## Get input from user (int) and store first five even numbers in list"
   ]
  },
  {
   "cell_type": "code",
   "execution_count": 1,
   "metadata": {},
   "outputs": [
    {
     "name": "stdout",
     "output_type": "stream",
     "text": [
      "Enter the number:5\n",
      "[2, 4, 6, 8, 10]\n"
     ]
    }
   ],
   "source": [
    "in_put = int(input(\"Enter the number:\"))\n",
    "even = []\n",
    "num = 1\n",
    "while(len(even) < in_put):\n",
    "    if(num%2 == 0):\n",
    "        even.append(num)\n",
    "    num+=1\n",
    "print(even)"
   ]
  },
  {
   "cell_type": "code",
   "execution_count": 8,
   "metadata": {},
   "outputs": [
    {
     "name": "stdout",
     "output_type": "stream",
     "text": [
      "Enter the number:5\n",
      "[2, 4, 6, 8, 10]\n"
     ]
    }
   ],
   "source": [
    "even = []\n",
    "for num in range(2, int(input(\"Enter the number:\"))*2+1, 2):\n",
    "    even.append(num)\n",
    "print(even)"
   ]
  },
  {
   "cell_type": "code",
   "execution_count": 14,
   "metadata": {},
   "outputs": [
    {
     "name": "stdout",
     "output_type": "stream",
     "text": [
      "Enter number : 5\n",
      "[2, 4, 6, 8, 10]\n",
      "5\n"
     ]
    }
   ],
   "source": [
    "inp = int(input(\"Enter number : \"))*2+1\n",
    "lis = []\n",
    "for i in range(2,inp):\n",
    "    if not i%2:\n",
    "        lis.append(i)\n",
    "\n",
    "        print(lis)\n",
    "print(len(lis))"
   ]
  },
  {
   "cell_type": "code",
   "execution_count": 17,
   "metadata": {},
   "outputs": [
    {
     "name": "stdout",
     "output_type": "stream",
     "text": [
      "Enter the number:5\n"
     ]
    }
   ],
   "source": [
    "myl = [num for num in range(2, int(input(\"Enter the number:\"))*2+1, 2)]"
   ]
  },
  {
   "cell_type": "code",
   "execution_count": 18,
   "metadata": {},
   "outputs": [
    {
     "data": {
      "text/plain": [
       "[2, 4, 6, 8, 10]"
      ]
     },
     "execution_count": 18,
     "metadata": {},
     "output_type": "execute_result"
    }
   ],
   "source": [
    "myl"
   ]
  },
  {
   "cell_type": "markdown",
   "metadata": {},
   "source": [
    "# MARK PROCESSING?\n",
    "\n",
    "### Problem statement:"
   ]
  },
  {
   "cell_type": "markdown",
   "metadata": {},
   "source": [
    "* I/P\n",
    " - 4\n",
    " - Ram 100\n",
    " - Sam 50\n",
    " - Raju 46\n",
    " - Pavi 50\n",
    "\n",
    "* O/P\n",
    "  - 100 Ram\n",
    "  - 50 [Sam, Pavi]\n",
    "  - 46 Raju"
   ]
  },
  {
   "cell_type": "code",
   "execution_count": 4,
   "metadata": {},
   "outputs": [
    {
     "name": "stdout",
     "output_type": "stream",
     "text": [
      "Enter the limit : 3\n",
      "Enter name and Mark : ram 100\n",
      "Enter name and Mark : sam 10\n",
      "Enter name and Mark : pavi 100\n",
      "100 ['pavi', 'ram']\n",
      "10 sam\n"
     ]
    }
   ],
   "source": [
    "dictionary = {}\n",
    "n = int(input(\"Enter the limit : \"))\n",
    "for _ in range(n):\n",
    "    name,mark = input(\"Enter name and Mark : \").split()\n",
    "    mark = int(mark)\n",
    "    if mark not in dictionary:\n",
    "        dictionary[mark] = name\n",
    "    else:\n",
    "        dictionary[mark] += \" \"+name\n",
    "    \n",
    "for i in sorted(dictionary,reverse=True):\n",
    "    if \" \" in dictionary[i]:\n",
    "        dictionary[i] = sorted(dictionary[i].split())\n",
    "    print(i,dictionary[i])"
   ]
  },
  {
   "cell_type": "markdown",
   "metadata": {},
   "source": [
    "# Naming Convention:"
   ]
  },
  {
   "cell_type": "markdown",
   "metadata": {},
   "source": [
    "* addtwonumbers"
   ]
  },
  {
   "cell_type": "markdown",
   "metadata": {},
   "source": [
    "* AddTwoNumbers -> Upper Camel Case (or) Capital Case {For Classes}"
   ]
  },
  {
   "cell_type": "markdown",
   "metadata": {},
   "source": [
    "* addTwoNumbers -> Lower Camel Case {For Fucntions}"
   ]
  },
  {
   "cell_type": "markdown",
   "metadata": {},
   "source": [
    "* add_two_numbers -> Snake Case {For Variables}"
   ]
  },
  {
   "cell_type": "markdown",
   "metadata": {},
   "source": [
    "# Spy plane\n",
    "\n",
    "* Test case : 1\n",
    "```\n",
    "i/p:\n",
    "6\n",
    "a\n",
    "a\n",
    "b\n",
    "c\n",
    "c\n",
    "b\n",
    "o/p:\n",
    "All Arrived!\n",
    "```\n",
    "\n",
    "* Test case : 2\n",
    "```\n",
    "i/p:\n",
    "6\n",
    "a\n",
    "a\n",
    "b\n",
    "b\n",
    "c\n",
    "b\n",
    "o/p:\n",
    "[b,c]\n",
    "```\n",
    "\n",
    "* Test case : 3\n",
    "```\n",
    "i/p:\n",
    "8\n",
    "a\n",
    "a\n",
    "b\n",
    "b\n",
    "b\n",
    "b\n",
    "c\n",
    "c\n",
    "o/p:\n",
    "All Arrived!\n",
    "```\n",
    "\n",
    "* Test case : 4\n",
    "```\n",
    "i/p:\n",
    "5\n",
    "a\n",
    "a\n",
    "b\n",
    "c\n",
    "c\n",
    "o/p:\n",
    "b\n",
    "```"
   ]
  },
  {
   "cell_type": "markdown",
   "metadata": {},
   "source": [
    "# Election\n",
    "\n",
    "* Test case : 1\n",
    "```\n",
    "i/p:\n",
    "5\n",
    "a 10\n",
    "b 20\n",
    "a 30\n",
    "a 20\n",
    "b 45\n",
    "o/p:\n",
    "b 65\n",
    "a 60\n",
    "```\n",
    "\n",
    "* Test case : 1\n",
    "```\n",
    "i/p:\n",
    "8\n",
    "a 10\n",
    "b 20\n",
    "a 30\n",
    "a 20\n",
    "b 45\n",
    "c 20\n",
    "c 20\n",
    "c 20\n",
    "o/p:\n",
    "b 65\n",
    "a 60\n",
    "c 60\n",
    "```"
   ]
  }
 ],
 "metadata": {
  "kernelspec": {
   "display_name": "Python 3",
   "language": "python",
   "name": "python3"
  },
  "language_info": {
   "codemirror_mode": {
    "name": "ipython",
    "version": 3
   },
   "file_extension": ".py",
   "mimetype": "text/x-python",
   "name": "python",
   "nbconvert_exporter": "python",
   "pygments_lexer": "ipython3",
   "version": "3.6.9"
  }
 },
 "nbformat": 4,
 "nbformat_minor": 2
}
